{
 "cells": [
  {
   "cell_type": "markdown",
   "metadata": {},
   "source": [
    "### Projeto 1 - Engenharia do Conhecimento 2023/2024\n",
    "#### Trabalho realizador por: **Grupo 19:**\n",
    "##### 58180 - Rodrigo Correia; 58188 - Laura Cunha; 58223 - Martim Pereira\n",
    "---"
   ]
  },
  {
   "cell_type": "code",
   "execution_count": 1,
   "metadata": {},
   "outputs": [],
   "source": [
    "# Importar as bibliotecas necessárias\n",
    "import pandas as pd\n",
    "import numpy as np\n",
    "import matplotlib.pyplot as plt\n",
    "import warnings\n",
    "from sklearn.ensemble import RandomForestClassifier, AdaBoostClassifier, RandomForestRegressor\n",
    "from sklearn.svm import SVC, LinearSVR\n",
    "from sklearn.neighbors import KNeighborsClassifier, KNeighborsRegressor\n",
    "from sklearn.tree import DecisionTreeClassifier, DecisionTreeRegressor\n",
    "from sklearn.naive_bayes import GaussianNB\n",
    "from sklearn.neural_network import MLPClassifier\n",
    "from sklearn.model_selection import train_test_split, GridSearchCV\n",
    "from sklearn.preprocessing import StandardScaler, MinMaxScaler, PowerTransformer, LabelEncoder, OneHotEncoder\n",
    "from sklearn.feature_selection import SequentialFeatureSelector\n",
    "from sklearn.pipeline import Pipeline\n",
    "from sklearn.linear_model import LinearRegression, RidgeCV, LassoCV, ElasticNetCV\n",
    "from sklearn.metrics import accuracy_score, f1_score, recall_score, r2_score, explained_variance_score, root_mean_squared_error, mean_absolute_error, matthews_corrcoef\n",
    "from imblearn.under_sampling import RandomUnderSampler\n",
    "from ydata_profiling import ProfileReport\n",
    "from xgboost import XGBClassifier"
   ]
  },
  {
   "cell_type": "code",
   "execution_count": 4,
   "metadata": {},
   "outputs": [],
   "source": [
    "data_df = pd.read_csv('proj-data.csv') # Ler o dataset"
   ]
  },
  {
   "cell_type": "markdown",
   "metadata": {},
   "source": [
    "### Preprocessamento de Dados"
   ]
  },
  {
   "cell_type": "code",
   "execution_count": 5,
   "metadata": {},
   "outputs": [],
   "source": [
    "def categorize_diagnosis(diagnosis): # Categorizar as classes do target (diagnoses)\n",
    "    if len(diagnosis) > 1 or diagnosis in ['O', 'P', 'Q', 'S', 'T']:\n",
    "        return 'other conditions'\n",
    "    elif diagnosis in ['A', 'B', 'C', 'D']:\n",
    "        return 'hyperthyroid conditions'\n",
    "    elif diagnosis in ['E', 'F', 'G', 'H']:\n",
    "        return 'hypothyroid conditions'\n",
    "    elif diagnosis in ['I', 'J']:\n",
    "        return 'binding protein'\n",
    "    elif diagnosis == 'K':\n",
    "        return 'general health'\n",
    "    elif diagnosis in ['L', 'M', 'N']:\n",
    "        return 'replacement therapy'\n",
    "    elif diagnosis == 'R':\n",
    "        return 'discordant results'\n",
    "    else:\n",
    "        return 'healthy'\n",
    "    \n",
    "data_df['target'] = data_df['diagnoses'].apply(categorize_diagnosis)\n",
    "data_df.drop(['diagnoses'], axis=1, inplace=True)"
   ]
  },
  {
   "cell_type": "code",
   "execution_count": 6,
   "metadata": {},
   "outputs": [],
   "source": [
    "# Tartar os dados\n",
    "data_df.drop(['[record identification]'], axis=1, inplace=True)\n",
    "data_df = data_df.replace('?', np.nan)\n",
    "with warnings.catch_warnings():\n",
    "    warnings.simplefilter(\"ignore\")\n",
    "    data_df = data_df.replace({'f': 0, 't': 1, 'M':0, 'F':1})\n",
    "continuous_cols = ['TSH:', 'T3:', 'TT4:', 'T4U:', 'FTI:', 'TBG:']\n",
    "data_df[continuous_cols] = data_df[continuous_cols].apply(pd.to_numeric, errors='coerce', axis=1)"
   ]
  },
  {
   "cell_type": "markdown",
   "metadata": {},
   "source": [
    "### EDA"
   ]
  },
  {
   "cell_type": "code",
   "execution_count": 7,
   "metadata": {},
   "outputs": [],
   "source": [
    "# profile = ProfileReport(data_df)  # Geração do relatório do ydata_profiling\n",
    "# profile.to_file('profile.html')\n",
    "# Através da análise do relatório, decidiu-se realizar o seguinte processamento dos dados:"
   ]
  },
  {
   "cell_type": "code",
   "execution_count": 8,
   "metadata": {},
   "outputs": [],
   "source": [
    "data_df = data_df[data_df['age:'] < 100]\n",
    "data_df.drop(['hypopituitary:'], axis=1, inplace=True)\n",
    "miss_values_cols = ['TSH:', 'T3:', 'TT4:', 'T4U:', 'FTI:', 'TBG:']\n",
    "for i in miss_values_cols:\n",
    "    data_df[i] = data_df[i].fillna(-1)\n",
    "ohe_enc = OneHotEncoder(sparse_output=False, handle_unknown='ignore').set_output(transform='pandas')\n",
    "referral_encoded = ohe_enc.fit_transform(data_df[['referral source:']])\n",
    "data_df = pd.concat([data_df, referral_encoded], axis=1).drop(columns=['referral source:'])\n",
    "data_df.dropna(inplace=True)\n",
    "data_df.drop_duplicates(inplace=True)"
   ]
  },
  {
   "cell_type": "code",
   "execution_count": 9,
   "metadata": {},
   "outputs": [],
   "source": [
    "def test_models(X_train, X_test, y_train, y_test, aval_type): # Executa os varios modelos com um feature selection 'forward' e imprime a tabela com os resultados\n",
    "    with warnings.catch_warnings():\n",
    "        warnings.simplefilter(\"ignore\")\n",
    "        classification_models = [KNeighborsClassifier(n_jobs=-1), SVC(random_state=19), GaussianNB(), MLPClassifier(max_iter=9999999, random_state=19), AdaBoostClassifier(algorithm='SAMME', random_state=19), RandomForestClassifier(n_jobs=-1, random_state=19), DecisionTreeClassifier(random_state=19), XGBClassifier()]\n",
    "        regression_models = [RandomForestRegressor(random_state=19, n_jobs=-1), KNeighborsRegressor(n_jobs=-1), DecisionTreeRegressor(random_state=19), LinearRegression(n_jobs=-1), LinearSVR(dual='auto', max_iter=9999999, random_state=19), RidgeCV(alphas=np.linspace(0.01, .99, 100)), ElasticNetCV(alphas=np.linspace(0.01, .99, 100), max_iter=9999999, random_state=19), LassoCV(alphas=np.linspace(0.01, .99, 100), max_iter=9999999, random_state=19)]\n",
    "        scalers = [None, StandardScaler(), MinMaxScaler(), PowerTransformer()]\n",
    "        models = regression_models if aval_type == 'age' else classification_models\n",
    "        models_sfs = {}\n",
    "        if aval_type == 'target':\n",
    "            print(f'{\"Model name\":<45} | {\"Recall avg\":<11} | {\"F1 avg\":<7} | Accuracy')\n",
    "        elif aval_type == 'sex':\n",
    "            print(f'{\"Model name\":<45} | {\"MCC\":<11} | {\"F1 avg\":<7} | Accuracy')\n",
    "        else:\n",
    "            print(f'{\"Model name\":<45} | {\"R2\":<6} | {\"RMSE\":<6} | {'MAE':<6} | EVS')\n",
    "        scoring_type = 'f1_macro' if aval_type == 'sex' or aval_type == 'target' else 'neg_mean_squared_error'\n",
    "        for model in models:\n",
    "            sfs = SequentialFeatureSelector(model, n_features_to_select=8, scoring=scoring_type,n_jobs=-1).set_output(transform=\"pandas\")\n",
    "            sfs.fit(X_train, y_train)\n",
    "            models_sfs[model.__class__.__name__] = sfs\n",
    "            n_train = sfs.transform(X_train)\n",
    "            n_test = sfs.transform(X_test)\n",
    "            for scaler in scalers:\n",
    "                pipe = Pipeline([('scaler', scaler), ('model', model)])\n",
    "                pipe.fit(n_train, y_train)\n",
    "                y_pred = pipe.predict(n_test)\n",
    "                model_scaler_name = f'{model.__class__.__name__} ({scaler.__class__.__name__})'\n",
    "                if aval_type == 'target' or aval_type == 'sex':\n",
    "                    f1 = f1_score(y_test, y_pred, average=\"macro\", zero_division=0)\n",
    "                    acc = accuracy_score(y_test, y_pred)\n",
    "                    if aval_type == 'target':\n",
    "                        recall = recall_score(y_test, y_pred, average=\"macro\", zero_division=0)\n",
    "                        print(f'{model_scaler_name:<45} | {np.round(recall, 3):<11} | {np.round(f1, 3):<7} | {np.round(acc, 3)}')\n",
    "                    else:\n",
    "                        mcc = matthews_corrcoef(y_test, y_pred)\n",
    "                        print(f'{model_scaler_name:<45} | {np.round(mcc, 3):<11} | {np.round(f1, 3):<7} | {np.round(acc, 3)}')\n",
    "                else:\n",
    "                    print(f'{model_scaler_name:<45} | {np.round(r2_score(y_test, y_pred), 3):<6} | {np.round(root_mean_squared_error(y_test, y_pred), 3):<6} | {np.round(mean_absolute_error(y_test, y_pred), 3):<6} | {np.round(explained_variance_score(y_test, y_pred), 3)}')\n",
    "        return models_sfs"
   ]
  },
  {
   "cell_type": "code",
   "execution_count": 10,
   "metadata": {},
   "outputs": [],
   "source": [
    "def tune_model(model, param_grid, X_train, y_train, model_type): # Executa o gridsearch com os hyperparametros dos respetivos modelos\n",
    "    scoring_type = 'f1_macro' if model_type == 'classification' else 'r2'\n",
    "    grid = GridSearchCV(model, param_grid, cv=10, n_jobs=-1, scoring=scoring_type)\n",
    "    grid.fit(X_train, y_train)\n",
    "    print(\"Best hyperparameters:\", grid.best_params_)\n",
    "    print(\"Best score\", '(F1 macro):' if model_type == 'classification' else '(R2):', grid.best_score_)"
   ]
  },
  {
   "cell_type": "markdown",
   "metadata": {},
   "source": [
    "### Modelação\n",
    "### > O1"
   ]
  },
  {
   "cell_type": "code",
   "execution_count": 9,
   "metadata": {},
   "outputs": [],
   "source": [
    "X = data_df.drop(['target'], axis=1)\n",
    "y = LabelEncoder().fit_transform(data_df['target'])\n",
    "X_train,X_test,y_train,y_test = train_test_split(X,y,test_size=0.2, random_state=19)"
   ]
  },
  {
   "cell_type": "code",
   "execution_count": 10,
   "metadata": {},
   "outputs": [
    {
     "name": "stdout",
     "output_type": "stream",
     "text": [
      "Model name                                    | Recall avg  | F1 avg  | Accuracy\n",
      "KNeighborsClassifier (NoneType)               | 0.486       | 0.52    | 0.84\n",
      "KNeighborsClassifier (StandardScaler)         | 0.659       | 0.711   | 0.892\n",
      "KNeighborsClassifier (MinMaxScaler)           | 0.599       | 0.663   | 0.867\n",
      "KNeighborsClassifier (PowerTransformer)       | 0.637       | 0.684   | 0.884\n",
      "SVC (NoneType)                                | 0.351       | 0.36    | 0.806\n",
      "SVC (StandardScaler)                          | 0.302       | 0.319   | 0.795\n",
      "SVC (MinMaxScaler)                            | 0.156       | 0.162   | 0.752\n",
      "SVC (PowerTransformer)                        | 0.305       | 0.315   | 0.791\n",
      "GaussianNB (NoneType)                         | 0.486       | 0.482   | 0.774\n",
      "GaussianNB (StandardScaler)                   | 0.486       | 0.482   | 0.774\n",
      "GaussianNB (MinMaxScaler)                     | 0.486       | 0.482   | 0.774\n",
      "GaussianNB (PowerTransformer)                 | 0.504       | 0.503   | 0.752\n",
      "MLPClassifier (NoneType)                      | 0.633       | 0.642   | 0.883\n",
      "MLPClassifier (StandardScaler)                | 0.688       | 0.73    | 0.909\n",
      "MLPClassifier (MinMaxScaler)                  | 0.637       | 0.685   | 0.9\n",
      "MLPClassifier (PowerTransformer)              | 0.624       | 0.673   | 0.891\n",
      "AdaBoostClassifier (NoneType)                 | 0.399       | 0.393   | 0.827\n",
      "AdaBoostClassifier (StandardScaler)           | 0.399       | 0.393   | 0.827\n",
      "AdaBoostClassifier (MinMaxScaler)             | 0.399       | 0.393   | 0.827\n",
      "AdaBoostClassifier (PowerTransformer)         | 0.451       | 0.431   | 0.831\n",
      "RandomForestClassifier (NoneType)             | 0.823       | 0.831   | 0.941\n",
      "RandomForestClassifier (StandardScaler)       | 0.823       | 0.831   | 0.941\n",
      "RandomForestClassifier (MinMaxScaler)         | 0.823       | 0.831   | 0.941\n",
      "RandomForestClassifier (PowerTransformer)     | 0.766       | 0.777   | 0.928\n",
      "DecisionTreeClassifier (NoneType)             | 0.806       | 0.801   | 0.936\n",
      "DecisionTreeClassifier (StandardScaler)       | 0.804       | 0.802   | 0.935\n",
      "DecisionTreeClassifier (MinMaxScaler)         | 0.804       | 0.8     | 0.935\n",
      "DecisionTreeClassifier (PowerTransformer)     | 0.76        | 0.762   | 0.922\n",
      "XGBClassifier (NoneType)                      | 0.812       | 0.816   | 0.937\n",
      "XGBClassifier (StandardScaler)                | 0.812       | 0.816   | 0.937\n",
      "XGBClassifier (MinMaxScaler)                  | 0.812       | 0.816   | 0.937\n",
      "XGBClassifier (PowerTransformer)              | 0.78        | 0.787   | 0.929\n"
     ]
    }
   ],
   "source": [
    "models_sfs = test_models(X_train, X_test, y_train, y_test, 'target')"
   ]
  },
  {
   "cell_type": "code",
   "execution_count": 11,
   "metadata": {},
   "outputs": [
    {
     "name": "stdout",
     "output_type": "stream",
     "text": [
      "Best features: on thyroxine:, on antithyroid medication:, TSH:, T3:, TT4:, T4U:, FTI:, TBG:\n",
      "Best hyperparameters: {'max_depth': 15, 'min_samples_leaf': 1, 'n_estimators': 100}\n",
      "Best score (F1 macro): 0.8589225259476176\n"
     ]
    }
   ],
   "source": [
    "param_grid = {\n",
    "    'n_estimators': [100, 200, 300, 400, 500],\n",
    "    'max_depth': [None, 5, 10, 15, 20, 25, 30],\n",
    "    'min_samples_leaf': [1, 2, 5, 10, 15],\n",
    "}\n",
    "n_train = models_sfs[RandomForestClassifier().__class__.__name__].transform(X_train)\n",
    "print('Best features:', ', '.join(list(n_train.columns)))\n",
    "tune_model(RandomForestClassifier(n_jobs=-1, random_state=19), param_grid, n_train, y_train, 'classification')"
   ]
  },
  {
   "cell_type": "markdown",
   "metadata": {},
   "source": [
    "### > O2_Sexo"
   ]
  },
  {
   "cell_type": "code",
   "execution_count": 12,
   "metadata": {},
   "outputs": [],
   "source": [
    "X = data_df.drop(['sex:'], axis=1)\n",
    "ohe_enc = OneHotEncoder(sparse_output=False, handle_unknown='ignore').set_output(transform='pandas')\n",
    "target_encoded = ohe_enc.fit_transform(X[['target']])\n",
    "X = pd.concat([X, target_encoded], axis=1).drop(columns=['target'])\n",
    "y = data_df['sex:']\n",
    "X_train, X_test, y_train, y_test = train_test_split(X, y, test_size=0.2, random_state=19)\n",
    "rand = RandomUnderSampler(random_state=19)\n",
    "X_train, y_train = rand.fit_resample(X_train, y_train)"
   ]
  },
  {
   "cell_type": "code",
   "execution_count": 13,
   "metadata": {},
   "outputs": [
    {
     "name": "stdout",
     "output_type": "stream",
     "text": [
      "Model name                                    | MCC         | F1 avg  | Accuracy\n",
      "KNeighborsClassifier (NoneType)               | 0.153       | 0.561   | 0.583\n",
      "KNeighborsClassifier (StandardScaler)         | 0.209       | 0.586   | 0.604\n",
      "KNeighborsClassifier (MinMaxScaler)           | 0.214       | 0.591   | 0.611\n",
      "KNeighborsClassifier (PowerTransformer)       | 0.212       | 0.587   | 0.604\n",
      "SVC (NoneType)                                | 0.281       | 0.612   | 0.623\n",
      "SVC (StandardScaler)                          | 0.278       | 0.613   | 0.626\n",
      "SVC (MinMaxScaler)                            | 0.228       | 0.606   | 0.634\n",
      "SVC (PowerTransformer)                        | 0.294       | 0.615   | 0.624\n",
      "GaussianNB (NoneType)                         | 0.214       | 0.603   | 0.638\n",
      "GaussianNB (StandardScaler)                   | 0.214       | 0.603   | 0.638\n",
      "GaussianNB (MinMaxScaler)                     | 0.214       | 0.603   | 0.638\n",
      "GaussianNB (PowerTransformer)                 | 0.22        | 0.607   | 0.645\n",
      "MLPClassifier (NoneType)                      | 0.277       | 0.618   | 0.634\n",
      "MLPClassifier (StandardScaler)                | 0.275       | 0.611   | 0.623\n",
      "MLPClassifier (MinMaxScaler)                  | 0.265       | 0.619   | 0.64\n",
      "MLPClassifier (PowerTransformer)              | 0.277       | 0.609   | 0.619\n",
      "AdaBoostClassifier (NoneType)                 | 0.268       | 0.618   | 0.638\n",
      "AdaBoostClassifier (StandardScaler)           | 0.268       | 0.618   | 0.638\n",
      "AdaBoostClassifier (MinMaxScaler)             | 0.268       | 0.618   | 0.638\n",
      "AdaBoostClassifier (PowerTransformer)         | 0.268       | 0.618   | 0.638\n",
      "RandomForestClassifier (NoneType)             | 0.234       | 0.598   | 0.616\n",
      "RandomForestClassifier (StandardScaler)       | 0.231       | 0.596   | 0.614\n",
      "RandomForestClassifier (MinMaxScaler)         | 0.231       | 0.597   | 0.614\n",
      "RandomForestClassifier (PowerTransformer)     | 0.236       | 0.599   | 0.616\n",
      "DecisionTreeClassifier (NoneType)             | 0.222       | 0.586   | 0.599\n",
      "DecisionTreeClassifier (StandardScaler)       | 0.221       | 0.586   | 0.599\n",
      "DecisionTreeClassifier (MinMaxScaler)         | 0.222       | 0.586   | 0.599\n",
      "DecisionTreeClassifier (PowerTransformer)     | 0.222       | 0.586   | 0.599\n",
      "XGBClassifier (NoneType)                      | 0.243       | 0.594   | 0.606\n",
      "XGBClassifier (StandardScaler)                | 0.243       | 0.594   | 0.606\n",
      "XGBClassifier (MinMaxScaler)                  | 0.243       | 0.594   | 0.606\n",
      "XGBClassifier (PowerTransformer)              | 0.243       | 0.594   | 0.606\n"
     ]
    }
   ],
   "source": [
    "models_sfs = test_models(X_train, X_test, y_train, y_test, 'sex')"
   ]
  },
  {
   "cell_type": "code",
   "execution_count": 14,
   "metadata": {},
   "outputs": [
    {
     "name": "stdout",
     "output_type": "stream",
     "text": [
      "Best features: query hyperthyroid:, tumor:, TT4 measured:, T4U:, referral source:_STMW, referral source:_SVHC, referral source:_SVI, referral source:_other\n",
      "Best hyperparameters: {'learning_rate': 0.5, 'n_estimators': 500}\n",
      "Best score (F1 macro): 0.6441159536952934\n"
     ]
    }
   ],
   "source": [
    "param_grid = {\n",
    "    'n_estimators': [100, 200, 300, 400, 500],\n",
    "    'learning_rate': [0.01, 0.1, 0.5, 1.0]\n",
    "}\n",
    "n_train = models_sfs[AdaBoostClassifier().__class__.__name__].transform(X_train)\n",
    "print('Best features:', ', '.join(list(n_train.columns)))\n",
    "tune_model(AdaBoostClassifier(algorithm='SAMME', random_state=19), param_grid, n_train, y_train, 'classification')"
   ]
  },
  {
   "cell_type": "markdown",
   "metadata": {},
   "source": [
    "### > O2_Idade"
   ]
  },
  {
   "cell_type": "code",
   "execution_count": 11,
   "metadata": {},
   "outputs": [],
   "source": [
    "X = data_df.drop(['age:'], axis=1)\n",
    "ohe_enc = OneHotEncoder(sparse_output=False, handle_unknown='ignore').set_output(transform='pandas')\n",
    "target_encoded = ohe_enc.fit_transform(X[['target']])\n",
    "X = pd.concat([X, target_encoded], axis=1).drop(columns=['target'])\n",
    "y = data_df['age:']\n",
    "X_train, X_test, y_train, y_test = train_test_split(X, y, test_size=0.2, random_state=19)"
   ]
  },
  {
   "cell_type": "code",
   "execution_count": 12,
   "metadata": {},
   "outputs": [
    {
     "name": "stdout",
     "output_type": "stream",
     "text": [
      "Model name                                    | R2     | RMSE   | MEA    | EVS\n",
      "RandomForestRegressor (NoneType)              | 0.133  | 17.583 | 14.542 | 0.133\n",
      "RandomForestRegressor (StandardScaler)        | 0.133  | 17.583 | 14.542 | 0.133\n",
      "RandomForestRegressor (MinMaxScaler)          | 0.133  | 17.583 | 14.542 | 0.133\n",
      "RandomForestRegressor (PowerTransformer)      | 0.133  | 17.583 | 14.542 | 0.133\n",
      "KNeighborsRegressor (NoneType)                | -0.06  | 19.436 | 15.802 | 0.017\n",
      "KNeighborsRegressor (StandardScaler)          | 0.104  | 17.873 | 15.0   | 0.104\n",
      "KNeighborsRegressor (MinMaxScaler)            | -0.06  | 19.436 | 15.802 | 0.017\n",
      "KNeighborsRegressor (PowerTransformer)        | 0.104  | 17.873 | 15.0   | 0.104\n",
      "DecisionTreeRegressor (NoneType)              | 0.133  | 17.581 | 14.547 | 0.133\n",
      "DecisionTreeRegressor (StandardScaler)        | 0.133  | 17.581 | 14.547 | 0.133\n",
      "DecisionTreeRegressor (MinMaxScaler)          | 0.133  | 17.581 | 14.547 | 0.133\n",
      "DecisionTreeRegressor (PowerTransformer)      | 0.133  | 17.581 | 14.547 | 0.133\n",
      "LinearRegression (NoneType)                   | 0.126  | 17.656 | 14.632 | 0.126\n",
      "LinearRegression (StandardScaler)             | 0.126  | 17.656 | 14.632 | 0.126\n",
      "LinearRegression (MinMaxScaler)               | 0.126  | 17.656 | 14.632 | 0.126\n",
      "LinearRegression (PowerTransformer)           | 0.126  | 17.656 | 14.632 | 0.126\n",
      "LinearSVR (NoneType)                          | 0.111  | 17.808 | 14.538 | 0.12\n",
      "LinearSVR (StandardScaler)                    | 0.108  | 17.829 | 14.54  | 0.117\n",
      "LinearSVR (MinMaxScaler)                      | 0.106  | 17.854 | 14.566 | 0.117\n",
      "LinearSVR (PowerTransformer)                  | 0.11   | 17.81  | 14.537 | 0.117\n",
      "RidgeCV (NoneType)                            | 0.126  | 17.655 | 14.634 | 0.126\n",
      "RidgeCV (StandardScaler)                      | 0.126  | 17.656 | 14.632 | 0.126\n",
      "RidgeCV (MinMaxScaler)                        | 0.126  | 17.655 | 14.634 | 0.126\n",
      "RidgeCV (PowerTransformer)                    | 0.126  | 17.656 | 14.632 | 0.126\n",
      "ElasticNetCV (NoneType)                       | 0.125  | 17.659 | 14.681 | 0.125\n",
      "ElasticNetCV (StandardScaler)                 | 0.126  | 17.656 | 14.636 | 0.126\n",
      "ElasticNetCV (MinMaxScaler)                   | 0.125  | 17.659 | 14.681 | 0.125\n",
      "ElasticNetCV (PowerTransformer)               | 0.126  | 17.656 | 14.636 | 0.126\n",
      "LassoCV (NoneType)                            | 0.126  | 17.655 | 14.642 | 0.126\n",
      "LassoCV (StandardScaler)                      | 0.126  | 17.656 | 14.634 | 0.126\n",
      "LassoCV (MinMaxScaler)                        | 0.126  | 17.655 | 14.642 | 0.126\n",
      "LassoCV (PowerTransformer)                    | 0.126  | 17.656 | 14.634 | 0.126\n"
     ]
    }
   ],
   "source": [
    "models_sfs = test_models(X_train, X_test, y_train, y_test, 'age') # Executar os vários modelos, obtendo as suas métricas."
   ]
  },
  {
   "cell_type": "code",
   "execution_count": 13,
   "metadata": {},
   "outputs": [
    {
     "name": "stdout",
     "output_type": "stream",
     "text": [
      "Best features: sick:, I131 treatment:, goitre:, TSH measured:, referral source:_STMW, referral source:_SVHC, referral source:_SVI, target_general health\n",
      "Best hyperparameters: {'max_depth': None, 'min_samples_leaf': 1, 'min_samples_split': 31}\n",
      "Best score (R2): 0.13023933634449394\n"
     ]
    }
   ],
   "source": [
    "param_grid = {\n",
    "    'max_depth': [None, 5, 10, 15, 20, 25, 30, 50, 70, 100],\n",
    "    'min_samples_leaf': [1, 2, 5, 10, 15, 20, 30, 50],\n",
    "    'min_samples_split': range(2, 40)\n",
    "}\n",
    "n_train = models_sfs[DecisionTreeRegressor().__class__.__name__].transform(X_train)\n",
    "print('Best features:', ', '.join(list(n_train.columns)))\n",
    "tune_model(DecisionTreeRegressor(random_state=19), param_grid, n_train, y_train, 'regression')"
   ]
  },
  {
   "cell_type": "code",
   "execution_count": 15,
   "metadata": {},
   "outputs": [
    {
     "data": {
      "image/png": "[encoded data removed]",
      "text/plain": [
       "<Figure size 400x400 with 1 Axes>"
      ]
     },
     "metadata": {},
     "output_type": "display_data"
    }
   ],
   "source": [
    "model = DecisionTreeRegressor(min_samples_split=31, random_state=19)\n",
    "model.fit(n_train, y_train)\n",
    "n_test = models_sfs[model.__class__.__name__].transform(X_test)\n",
    "y_preds = model.predict(n_test)\n",
    "plt.figure(figsize=(4,4))\n",
    "plt.scatter(y_test, y_preds)\n",
    "plt.grid()\n",
    "plt.plot([0, 100], [0, 100], c=\"r\")\n",
    "plt.xlabel(\"Expected values\") \n",
    "plt.ylabel(\"Predicted values\")\n",
    "plt.show()"
   ]
  },
  {
   "cell_type": "markdown",
   "metadata": {},
   "source": [
    "### Última célula "
   ]
  },
  {
   "cell_type": "code",
   "execution_count": null,
   "metadata": {},
   "outputs": [],
   "source": [
    "import pandas as pd\n",
    "import warnings\n",
    "import numpy as np\n",
    "from sklearn.ensemble import RandomForestClassifier, AdaBoostClassifier\n",
    "from sklearn.tree import DecisionTreeRegressor\n",
    "from sklearn.metrics import classification_report, root_mean_squared_error, max_error, r2_score, mean_absolute_error\n",
    "from imblearn.under_sampling import RandomUnderSampler\n",
    "from sklearn.preprocessing import OneHotEncoder\n",
    "from sklearn.model_selection import train_test_split\n",
    "from scipy.stats import pearsonr\n",
    "ohe_enc_refer = OneHotEncoder(sparse_output=False, handle_unknown='ignore').set_output(transform='pandas')\n",
    "ohe_enc_target_age = OneHotEncoder(sparse_output=False, handle_unknown='ignore').set_output(transform='pandas')\n",
    "ohe_enc_target_sex = OneHotEncoder(sparse_output=False, handle_unknown='ignore').set_output(transform='pandas')\n",
    "\n",
    "def categorize_diagnosis(diagnosis):\n",
    "    if len(diagnosis) > 1 or diagnosis in ['O', 'P', 'Q', 'S', 'T']:\n",
    "        return 'other conditions'\n",
    "    elif diagnosis in ['A', 'B', 'C', 'D']:\n",
    "        return 'hyperthyroid conditions'\n",
    "    elif diagnosis in ['E', 'F', 'G', 'H']:\n",
    "        return 'hypothyroid conditions'\n",
    "    elif diagnosis in ['I', 'J']:\n",
    "        return 'binding protein'\n",
    "    elif diagnosis == 'K':\n",
    "        return 'general health'\n",
    "    elif diagnosis in ['L', 'M', 'N']:\n",
    "        return 'replacement therapy'\n",
    "    elif diagnosis == 'R':\n",
    "        return 'discordant results'\n",
    "    else:\n",
    "        return 'healthy'\n",
    "    \n",
    "def printRegStatistics(truth, preds):\n",
    "    print(\"The R2 is: \", r2_score(truth, preds))\n",
    "    print(\"The rmse is: \", root_mean_squared_error(truth, preds))\n",
    "    corr, pval = pearsonr(truth, preds)\n",
    "    print(\"The Correlation Score is is: %6.4f (p-value=%e)\"%(corr,pval))\n",
    "    print(\"The Maximum Error is is: \", max_error(truth, preds))\n",
    "    print(\"The Mean Absolute Error is: \", mean_absolute_error(truth, preds))\n",
    "    \n",
    "def parse_target_dataset(df):\n",
    "    df['target'] = df['diagnoses'].apply(categorize_diagnosis)\n",
    "    df.drop(['diagnoses'], axis=1, inplace=True)\n",
    "\n",
    "def parse_dataset(df, is_train=False):\n",
    "    df.drop(['[record identification]'], axis=1, inplace=True)\n",
    "    df = df.replace('?', np.nan)\n",
    "    with warnings.catch_warnings():\n",
    "        warnings.simplefilter(\"ignore\")\n",
    "        df = df.replace({'f': 0, 't': 1, 'M':0, 'F':1}) \n",
    "    continuous_cols = ['TSH:', 'T3:', 'TT4:', 'T4U:', 'FTI:', 'TBG:']\n",
    "    df[continuous_cols] = df[continuous_cols].apply(pd.to_numeric, errors='coerce', axis=1)\n",
    "    df.drop(['hypopituitary:'], axis=1, inplace=True)\n",
    "    miss_values_cols = ['TSH:', 'T3:', 'TT4:', 'T4U:', 'FTI:', 'TBG:']\n",
    "    for i in miss_values_cols:\n",
    "        df[i] = df[i].fillna(-1)\n",
    "    if is_train:\n",
    "        referral_encoded = ohe_enc_refer.fit_transform(df[['referral source:']])\n",
    "    else:\n",
    "        referral_encoded = ohe_enc_refer.transform(df[['referral source:']])\n",
    "    df = pd.concat([df, referral_encoded], axis=1).drop(columns=['referral source:'])\n",
    "    return df\n",
    "\n",
    "def parse_train_dataset(df):\n",
    "    df = df[df['age:'] < 100]\n",
    "    df.dropna(inplace=True)\n",
    "    df.drop_duplicates(inplace=True)\n",
    "    return df\n",
    "\n",
    "def run_model(model, X_test, y_test, type='classification'):\n",
    "    y_preds = model.predict(X_test)\n",
    "    if type == 'classification':\n",
    "        print(classification_report(y_test, y_preds, zero_division=0))\n",
    "    else:\n",
    "        printRegStatistics(y_test, y_preds)\n",
    "\n",
    "def split_dataset(target_col):\n",
    "    X = data_df.drop([target_col], axis=1)\n",
    "    y = data_df[target_col]\n",
    "    X_train,_,y_train,_ = train_test_split(X,y,test_size=0.2, random_state=19)\n",
    "    return X_train, y_train\n",
    "    \n",
    "best_features_o1 = ['on thyroxine:', 'on antithyroid medication:', 'TSH:', 'T3:', 'TT4:', 'T4U:', 'FTI:', 'TBG:']\n",
    "best_features_o2_age = ['sick:', 'I131 treatment:', 'goitre:', 'TSH measured:', 'referral source:_STMW', 'referral source:_SVHC', 'referral source:_SVI', 'target_general health']\n",
    "best_features_o2_sex = ['query hyperthyroid:', 'tumor:', 'TT4 measured:', 'T4U:', 'referral source:_STMW', 'referral source:_SVHC', 'referral source:_SVI', 'referral source:_other']\n",
    "data_df = pd.read_csv('proj-data.csv')\n",
    "parse_target_dataset(data_df)\n",
    "data_df = parse_train_dataset(parse_dataset(data_df, True))\n",
    "X_train_o1, y_train_o1 = split_dataset('target')\n",
    "X_train_o1 = X_train_o1[best_features_o1]\n",
    "X_train_o2_age, y_train_o2_age = split_dataset('age:')\n",
    "target_enc = ohe_enc_target_age.fit_transform(X_train_o2_age[['target']])\n",
    "X_train_o2_age = pd.concat([X_train_o2_age, target_enc], axis=1).drop(columns=['target'])\n",
    "X_train_o2_age = X_train_o2_age[best_features_o2_age]\n",
    "X_train_o2_sex, y_train_o2_sex = split_dataset('sex:')\n",
    "target_enc = ohe_enc_target_sex.fit_transform(X_train_o2_sex[['target']])\n",
    "X_train_o2_sex = pd.concat([X_train_o2_sex, target_enc], axis=1).drop(columns=['target'])\n",
    "rand = RandomUnderSampler(random_state=19)\n",
    "X_train_o2_sex, y_train_o2_sex = rand.fit_resample(X_train_o2_sex, y_train_o2_sex)\n",
    "X_train_o2_sex = X_train_o2_sex[best_features_o2_sex]\n",
    "X_test_o1 = pd.read_csv('proj-test-data.csv')\n",
    "X_test_o1 = parse_dataset(X_test_o1)\n",
    "X_test_o2_age = pd.read_csv('proj-test2-data.csv')\n",
    "parse_target_dataset(X_test_o2_age)\n",
    "X_test_o2_age = parse_dataset(X_test_o2_age)\n",
    "target_enc = ohe_enc_target_age.transform(X_test_o2_age[['target']])\n",
    "X_test_o2_age = pd.concat([X_test_o2_age, target_enc], axis=1).drop(columns=['target'])\n",
    "X_test_o2_sex = pd.read_csv('proj-test3-data.csv')\n",
    "parse_target_dataset(X_test_o2_sex)\n",
    "X_test_o2_sex = parse_dataset(X_test_o2_sex)\n",
    "target_enc = ohe_enc_target_sex.transform(X_test_o2_sex[['target']])\n",
    "X_test_o2_sex = pd.concat([X_test_o2_sex, target_enc], axis=1).drop(columns=['target'])\n",
    "y_test_o1 = pd.read_csv('proj-test-class.csv')\n",
    "parse_target_dataset(y_test_o1)\n",
    "y_test_o2_age = pd.read_csv('proj-test2-age.csv')\n",
    "y_test_o2_sex = pd.read_csv('proj-test3-sex.csv')\n",
    "with warnings.catch_warnings():\n",
    "    warnings.simplefilter(\"ignore\")\n",
    "    y_test_o2_sex.replace({'F': 1, 'M': 0}, inplace=True)\n",
    "model_o1 = RandomForestClassifier(max_depth=15, min_samples_leaf=1, n_estimators=100, random_state=19, n_jobs=-1).fit(X_train_o1, y_train_o1)\n",
    "X_test_o1 = X_test_o1[best_features_o1]\n",
    "run_model(model_o1, X_test_o1, y_test_o1)\n",
    "print('-'*100)\n",
    "model_age = DecisionTreeRegressor(min_samples_split=31, random_state=19).fit(X_train_o2_age, y_train_o2_age)\n",
    "X_test_o2_age = X_test_o2_age[best_features_o2_age]\n",
    "run_model(model_age, X_test_o2_age, np.squeeze(np.asarray(y_test_o2_age)), 'regression')\n",
    "print('-'*100)\n",
    "model_sex = AdaBoostClassifier(algorithm='SAMME', random_state=19).fit(X_train_o2_sex, y_train_o2_sex)\n",
    "X_test_o2_sex = X_test_o2_sex[best_features_o2_sex]\n",
    "run_model(model_sex, X_test_o2_sex, y_test_o2_sex)"
   ]
  }
 ],
 "metadata": {
  "kernelspec": {
   "display_name": "Python 3",
   "language": "python",
   "name": "python3"
  },
  "language_info": {
   "codemirror_mode": {
    "name": "ipython",
    "version": 3
   },
   "file_extension": ".py",
   "mimetype": "text/x-python",
   "name": "python",
   "nbconvert_exporter": "python",
   "pygments_lexer": "ipython3",
   "version": "3.12.3"
  }
 },
 "nbformat": 4,
 "nbformat_minor": 2
}
